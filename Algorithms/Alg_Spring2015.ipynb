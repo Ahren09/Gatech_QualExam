{
 "cells": [
  {
   "cell_type": "markdown",
   "id": "678f6642",
   "metadata": {},
   "source": []
  },
  {
   "cell_type": "markdown",
   "id": "981b9217",
   "metadata": {},
   "source": []
  },
  {
   "cell_type": "markdown",
   "id": "0a8ff4f5",
   "metadata": {},
   "source": []
  },
  {
   "cell_type": "markdown",
   "id": "cff68c29",
   "metadata": {},
   "source": [
    "## 4\n",
    "\n",
    "The classical Traveling Salesperson Problem requires to input a weighted undirected graph and find a minimum-weight cycle that includes all vertices of the graph. We consider the modified version of the problem, which requires to find a minimum-weight path through all vertices; that is, the salesperson has to visit all vertices without returning to the initial vertex. The classical Traveling Salesperson Problem is known to be NP-complete. Use this fact to prove that the modified problem is also NP-complete.\n"
   ]
  },
  {
   "cell_type": "markdown",
   "id": "1b70f7a6",
   "metadata": {},
   "source": [
    "<div style=\"color:blue\">\n",
    "\n",
    "### The problem is in NP\n",
    "\n",
    "For any given solution (a path through all vertices), we can verify in polynomial time whether it indeed visits all vertices exactly once and whether the total weight of the path is as claimed. This can be done by summing the weights of the edges in the provided path and checking that all vertices are included without repetition.\n",
    "\n",
    "### The problem is NP-hard\n",
    "\n",
    "We reduce from the classical TSP, which is known to be NP-complete. \n",
    "\n",
    "In classical TSP, we are given a complete weighted undirected graph $G=(V,E)$. Our goal is to find a minimum-weight Hamiltonian cycle in $G$.\n",
    "\n",
    "We transform this instance into an instance of the modified TSP: We add an extra vertex $v'$ to the graph $G$ and connect $v'$ to all other vertices with edges of extremely large weight, larger than the sum of all weights in the original G.\n",
    "\n",
    "The constructed new graph is $G' = (V \\cup \\{v'\\}, E')$. In $G'$, any path that includes the vertex $v'$ more than once will have an extremely large weight due to the large weights of the edges connected to v'. Therefore, the minimum-weight path that visits every vertex in $G'$ exactly once will include $v'$ exactly once and form a path through all original vertices of $G$ and back to v'. This will form a Hamiltonian cycle in $G'$. We can thus solve the classical TSP on G by simply removing $v'$ and its incident edges from the solution. \n",
    "\n",
    "By this reduction, we show that any instances of the classical TSP can be polynomially transformed into an instance of the modified TSP such that solving the modified TSP will solve the classical TSP.\n",
    "\n",
    "</div>"
   ]
  },
  {
   "cell_type": "code",
   "execution_count": null,
   "id": "e04d605c",
   "metadata": {},
   "outputs": [],
   "source": []
  }
 ],
 "metadata": {
  "kernelspec": {
   "display_name": "Python 3 (ipykernel)",
   "language": "python",
   "name": "python3"
  },
  "language_info": {
   "codemirror_mode": {
    "name": "ipython",
    "version": 3
   },
   "file_extension": ".py",
   "mimetype": "text/x-python",
   "name": "python",
   "nbconvert_exporter": "python",
   "pygments_lexer": "ipython3",
   "version": "3.8.17"
  }
 },
 "nbformat": 4,
 "nbformat_minor": 5
}
