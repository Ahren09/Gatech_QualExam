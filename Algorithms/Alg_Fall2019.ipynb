{
 "cells": [
  {
   "cell_type": "markdown",
   "id": "3f34abd7",
   "metadata": {},
   "source": [
    "## 1.Greedy\n",
    "\n",
    "You are given n distinct points and one line $l$ on the plane and some constant $r > 0$. Each of the n points is within distance at most $r$ of line $l$ (as measured along the perpendicular). You are to place disks of radius $r$ centered along line $l$ such that every one of the n points lies within at least one disk. Devise a greedy algorithm that runs in $O(n log n)$ time and uses a minimum number of disks to cover all n points; prove its optimality.\n"
   ]
  },
  {
   "cell_type": "markdown",
   "id": "524e1b8e",
   "metadata": {},
   "source": [
    "<div style=\"color:blue\">\n",
    "\n",
    "Algorithm\n",
    "\n",
    "* Sort all $n$ points based on their projection onto $l$ in increasing order: $x_1, x_2, \\ldots, x_n$\n",
    "* num_disks = 0\n",
    "* For each point $i = 1 ... n$:\n",
    "  * if $i$ is not covered by a disk:\n",
    "    * place a disk so that $i$ is right on the boundary of the disk and that the disk covers as many points to the right as possible (it is to the right of point $i$ as much as possible, as long as it touches $i$)\n",
    "    * num_disks += 1\n",
    "* Return num_disks\n",
    "\n",
    "Proof of optimality\n",
    "\n",
    "* To prove the optimality of this algorithm, we need to show that no other algorithm can use fewer disks to cover all points. \n",
    "\n",
    "* Suppose our greedy solution $G$ is different from the optimal solution $O$. That means $O$ uses fewer disks\n",
    "* Let $j$ be the first disk that the two algorithm differ.\n",
    "* In $G$, the greedy solution, the disk is place such that it covers a point on its boundary and as many points as possible to its right\n",
    "* Any other way of placing this disk either\n",
    "  * is invalid: leaving some points uncovered \n",
    "  * cover fewer points to the right: since we place the disk to maximize coverage\n",
    "* This means that any other solution would require at least as many disks as our greedy solution to cover all points.\n",
    "* Therefore, our greedy algorithm indeed uses the minimum number of disks required.\n",
    "\n",
    "\n",
    "Time complexity\n",
    "* Sorting the projected distance on $l$ takes $O(n \\log n)$\n",
    "* Placing disks requires a single pass through the sorted list of points, which takes $O(n)$ and is low\n",
    "* So the overall complexity is $O(n \\log n) + O(n) = O(n \\log n)$\n",
    "\n",
    "\n",
    "\n",
    "</div>"
   ]
  },
  {
   "cell_type": "markdown",
   "id": "a7394a8e",
   "metadata": {},
   "source": [
    "## 2. Greedy and DP algorithms\n",
    "Consider the following game. You are given a sequence of $n$ positive numbers $\\left(a_1, a_2, \\ldots, a_n\\right)$. Initially, they are all colored black. At each move, you choose a black number $a_k$ and color it and its immediate neighbors (if any) red (the immediate neighbors are the elements $a_{k-1}, a_{k+1}$ ). You get $a_k$ points for this move. The game ends when all numbers are colored red. The goal is to get as many points as possible.\n",
    "\n",
    "* a. Describe a greedy algorithm for this problem. Verify that it does not always maximize the number of points and give a tight approximation ratio (i.e., provide a family of instances where the greedy algorithm returns solutions that reach this bound, and an informal proof that, on any instance, the solution returned by the greedy algorithm will not exceed that bound)."
   ]
  },
  {
   "cell_type": "code",
   "execution_count": null,
   "id": "192bf2c5",
   "metadata": {},
   "outputs": [],
   "source": [
    "def greedy(a):\n",
    "    # Initialize an empty list `l` for storing the indices of items\n",
    "    l = []\n",
    "    \n",
    "    colors = ['black' for _ in range(len(a))]\n",
    "    \n",
    "    # While there are still black numbers\n",
    "    while any([a[i] == \"black\" for i in range(len(a))]):\n",
    "    \n",
    "        black_numbers = [num for i, num in enumerate(a) if colors[i] == \"black\"]\n",
    "        \n",
    "        max_index = a.index(max(black_numbers))\n",
    "        \n",
    "        l += [k]\n",
    "        colors[k] = \"red\"\n",
    "        if k >= 1:\n",
    "            colors[k - 1] = \"red\"\n",
    "            \n",
    "        if k <= (n - 2):\n",
    "            colors[k + 1] = \"black\"\n",
    "            \n",
    "        \n",
    "    return l\n",
    "        "
   ]
  },
  {
   "cell_type": "markdown",
   "id": "824ec7e5",
   "metadata": {},
   "source": [
    "<div style=\"color:blue\">\n",
    "\n",
    "This does not give the optimal solutions. For example, consider the case in which there is an odd number of $n$ elements in the array $a$. The $(n+1) / 2$ elements with even indices $a_0, a_2, ..., a_{n-1}$ are all smaller than the $(n-1) / 2$ elements with odd indices ($a_1, a_3, ..., a_{n-2}$), but have a total sum greater than that of the elements with odd indices. \n",
    "\n",
    "Consider [10, 20, 15]. Greedy algorithm will choose 20, whereas the optimal solution is to choose 15 and 10, yielding a total sum of 25.\n",
    "    \n",
    "</div>"
   ]
  },
  {
   "cell_type": "markdown",
   "id": "a9ec2cba",
   "metadata": {},
   "source": [
    "* b. Describe and analyze an efficient dynamic programming algorithm for this problem that returns optimal solutions. (Linear time is possible.)"
   ]
  },
  {
   "cell_type": "code",
   "execution_count": 2,
   "id": "3cbd6d42",
   "metadata": {},
   "outputs": [],
   "source": [
    "def dynamic_programming(a):\n",
    "    \n",
    "    # If there are less than 2 elements in the array, just return the index of the larger element\n",
    "    if len(a) <= 2:\n",
    "        return a.index(max(a))\n",
    "    \n",
    "    dp = [float('-inf') for _ in range(len(a))]\n",
    "    dp[0], dp[1] = a[0], max(a[0], a[1])\n",
    "    \n",
    "    for i in range(2, len(a)):\n",
    "        dp[i] = max(dp[i - 2] + a[i], dp[i - 1])\n",
    "        \n",
    "    return max(dp[i - 1], dp[i])\n",
    "        \n",
    "        \n"
   ]
  },
  {
   "cell_type": "markdown",
   "id": "e98a2c52",
   "metadata": {},
   "source": [
    "<div style=\"color:blue\">\n",
    "\n",
    "### Complexity\n",
    "\n",
    "Both Time Complexity and Space Complexity are O(n)\n",
    "    \n",
    "</div>"
   ]
  },
  {
   "cell_type": "markdown",
   "id": "64ab63bf",
   "metadata": {},
   "source": [
    "## 3. Dynamic programming\n",
    "\n",
    "You are given a sorted set of points $P=\\left(P_1, P_2, \\ldots, P_n\\right)$ on a line. Given a constant $k$, show how to select a subset of $k-1$ of these points, say (still in sorted order) $\\left(P_{j_1}, \\ldots, P_{j_{(k-1)}}\\right)$, so as to partition the segment from $P_1$ to $P_n$ into $k$ pieces that are as close to equal in length as possible. Specifically, writing $L=\\left(P_n-P_1\\right) / k$, we want to minimize the square error\n",
    "$$\n",
    "\\left(P_{j_1}-P_1-L\\right)^2+\\sum_{i=1}^{k-2}\\left(P_{j_{i+1}}-P_{j_i}-L\\right)^2+\\left(P_n-P_{j_{k-1}}-L\\right)^2\n",
    "$$\n",
    "\n",
    "Describe and analyze an algorithm for this problem that runs in $\\Theta\\left(k n^2\\right)$ time."
   ]
  },
  {
   "cell_type": "markdown",
   "id": "16335184",
   "metadata": {},
   "source": [
    "<div style=\"color:blue\">\n",
    "    \n",
    "    \n",
    "</div>"
   ]
  },
  {
   "cell_type": "markdown",
   "id": "8289c4be",
   "metadata": {},
   "source": [
    "## 4. NP: Dinner with Frenemies\n",
    "\n",
    "\n",
    "Prove that the following decision problem is NP-complete. Given n students and a set of pairs of students who are enemies, is it possible to arrange a dinner around a round table so that two enemies do not sit side by side? Remember to include all the steps of the NP-completeness proof.\n"
   ]
  },
  {
   "cell_type": "markdown",
   "id": "1a129c91",
   "metadata": {},
   "source": [
    "<div style=\"color:blue\">\n",
    "\n",
    "\n",
    "#### The Problem is in NP. \n",
    "\n",
    "a solution will be a seating arrangement of students around the table. To verify this solution, we only need to check each pair of adjacent students and confirm that none of them are enemies, which can be done in polynomial time relative to the number of students.\n",
    "\n",
    "#### The Problem is NP-hard\n",
    "\n",
    "We reduce a known NP-complete problem, the Hamiltonian Path Problem, to this problem. \n",
    "\n",
    "The graph construction is as follows:\n",
    "\n",
    "- We consider each node in the graph as a student in the frenemy problem\n",
    "- For each pair of nodes $(u, v) \\in \\{V \\times V\\}$, if $(u, v) \\notin G$, we establish that the students corresponding to nodes $u, v$ are enemy. \n",
    "\n",
    "Thus, a path through this graph where each vertex is visited exactly once would correspond to an arrangement of students around the table where no enemies are sitting next to each other.\n",
    "\n",
    "\n",
    "Reduction\n",
    "\n",
    "If we can find a Hamiltonian path in this graph (a path that visits each vertex exactly once), it means we can arrange the students around the table in such a way that no enemies are sitting next to each other. Conversely, if we can arrange the students around the table without enemies next to each other, it means that there exists a Hamiltonian path in the graph.\n",
    "\n",
    "</div>"
   ]
  }
 ],
 "metadata": {
  "kernelspec": {
   "display_name": "Python 3 (ipykernel)",
   "language": "python",
   "name": "python3"
  },
  "language_info": {
   "codemirror_mode": {
    "name": "ipython",
    "version": 3
   },
   "file_extension": ".py",
   "mimetype": "text/x-python",
   "name": "python",
   "nbconvert_exporter": "python",
   "pygments_lexer": "ipython3",
   "version": "3.9.13"
  }
 },
 "nbformat": 4,
 "nbformat_minor": 5
}
